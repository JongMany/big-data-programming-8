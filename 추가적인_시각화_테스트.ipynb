{
 "cells": [
  {
   "cell_type": "code",
   "execution_count": 44,
   "id": "7e96aa8b",
   "metadata": {},
   "outputs": [
    {
     "name": "stdout",
     "output_type": "stream",
     "text": [
      "Requirement already satisfied: keplergl==0.3.0 in /Users/devlee/opt/anaconda3/lib/python3.9/site-packages (0.3.0)\n",
      "Requirement already satisfied: ipywidgets<8,>=7.0.0 in /Users/devlee/opt/anaconda3/lib/python3.9/site-packages (from keplergl==0.3.0) (7.8.1)\n",
      "Requirement already satisfied: traittypes>=0.2.1 in /Users/devlee/opt/anaconda3/lib/python3.9/site-packages (from keplergl==0.3.0) (0.2.1)\n",
      "Requirement already satisfied: geopandas>=0.5.0 in /Users/devlee/opt/anaconda3/lib/python3.9/site-packages (from keplergl==0.3.0) (0.14.4)\n",
      "Requirement already satisfied: pandas>=0.23.0 in /Users/devlee/opt/anaconda3/lib/python3.9/site-packages (from keplergl==0.3.0) (2.0.3)\n",
      "Requirement already satisfied: Shapely>=1.6.4.post2 in /Users/devlee/opt/anaconda3/lib/python3.9/site-packages (from keplergl==0.3.0) (2.0.4)\n",
      "Requirement already satisfied: fiona>=1.8.21 in /Users/devlee/opt/anaconda3/lib/python3.9/site-packages (from geopandas>=0.5.0->keplergl==0.3.0) (1.9.6)\n",
      "Requirement already satisfied: numpy>=1.22 in /Users/devlee/opt/anaconda3/lib/python3.9/site-packages (from geopandas>=0.5.0->keplergl==0.3.0) (1.24.3)\n",
      "Requirement already satisfied: packaging in /Users/devlee/opt/anaconda3/lib/python3.9/site-packages (from geopandas>=0.5.0->keplergl==0.3.0) (23.1)\n",
      "Requirement already satisfied: pyproj>=3.3.0 in /Users/devlee/opt/anaconda3/lib/python3.9/site-packages (from geopandas>=0.5.0->keplergl==0.3.0) (3.6.1)\n",
      "Requirement already satisfied: comm>=0.1.3 in /Users/devlee/opt/anaconda3/lib/python3.9/site-packages (from ipywidgets<8,>=7.0.0->keplergl==0.3.0) (0.2.2)\n",
      "Requirement already satisfied: ipython-genutils~=0.2.0 in /Users/devlee/opt/anaconda3/lib/python3.9/site-packages (from ipywidgets<8,>=7.0.0->keplergl==0.3.0) (0.2.0)\n",
      "Requirement already satisfied: traitlets>=4.3.1 in /Users/devlee/opt/anaconda3/lib/python3.9/site-packages (from ipywidgets<8,>=7.0.0->keplergl==0.3.0) (5.7.1)\n",
      "Requirement already satisfied: widgetsnbextension~=3.6.6 in /Users/devlee/opt/anaconda3/lib/python3.9/site-packages (from ipywidgets<8,>=7.0.0->keplergl==0.3.0) (3.6.6)\n",
      "Requirement already satisfied: ipython>=4.0.0 in /Users/devlee/opt/anaconda3/lib/python3.9/site-packages (from ipywidgets<8,>=7.0.0->keplergl==0.3.0) (8.15.0)\n",
      "Requirement already satisfied: jupyterlab-widgets<3,>=1.0.0 in /Users/devlee/opt/anaconda3/lib/python3.9/site-packages (from ipywidgets<8,>=7.0.0->keplergl==0.3.0) (1.1.7)\n",
      "Requirement already satisfied: python-dateutil>=2.8.2 in /Users/devlee/opt/anaconda3/lib/python3.9/site-packages (from pandas>=0.23.0->keplergl==0.3.0) (2.8.2)\n",
      "Requirement already satisfied: pytz>=2020.1 in /Users/devlee/opt/anaconda3/lib/python3.9/site-packages (from pandas>=0.23.0->keplergl==0.3.0) (2023.3.post1)\n",
      "Requirement already satisfied: tzdata>=2022.1 in /Users/devlee/opt/anaconda3/lib/python3.9/site-packages (from pandas>=0.23.0->keplergl==0.3.0) (2023.3)\n",
      "Requirement already satisfied: attrs>=19.2.0 in /Users/devlee/opt/anaconda3/lib/python3.9/site-packages (from fiona>=1.8.21->geopandas>=0.5.0->keplergl==0.3.0) (22.1.0)\n",
      "Requirement already satisfied: certifi in /Users/devlee/opt/anaconda3/lib/python3.9/site-packages (from fiona>=1.8.21->geopandas>=0.5.0->keplergl==0.3.0) (2023.7.22)\n",
      "Requirement already satisfied: click~=8.0 in /Users/devlee/opt/anaconda3/lib/python3.9/site-packages (from fiona>=1.8.21->geopandas>=0.5.0->keplergl==0.3.0) (8.0.4)\n",
      "Requirement already satisfied: click-plugins>=1.0 in /Users/devlee/opt/anaconda3/lib/python3.9/site-packages (from fiona>=1.8.21->geopandas>=0.5.0->keplergl==0.3.0) (1.1.1)\n",
      "Requirement already satisfied: cligj>=0.5 in /Users/devlee/opt/anaconda3/lib/python3.9/site-packages (from fiona>=1.8.21->geopandas>=0.5.0->keplergl==0.3.0) (0.7.2)\n",
      "Requirement already satisfied: six in /Users/devlee/opt/anaconda3/lib/python3.9/site-packages (from fiona>=1.8.21->geopandas>=0.5.0->keplergl==0.3.0) (1.16.0)\n",
      "Requirement already satisfied: importlib-metadata in /Users/devlee/opt/anaconda3/lib/python3.9/site-packages (from fiona>=1.8.21->geopandas>=0.5.0->keplergl==0.3.0) (6.0.0)\n",
      "Requirement already satisfied: backcall in /Users/devlee/opt/anaconda3/lib/python3.9/site-packages (from ipython>=4.0.0->ipywidgets<8,>=7.0.0->keplergl==0.3.0) (0.2.0)\n",
      "Requirement already satisfied: decorator in /Users/devlee/opt/anaconda3/lib/python3.9/site-packages (from ipython>=4.0.0->ipywidgets<8,>=7.0.0->keplergl==0.3.0) (5.1.1)\n",
      "Requirement already satisfied: jedi>=0.16 in /Users/devlee/opt/anaconda3/lib/python3.9/site-packages (from ipython>=4.0.0->ipywidgets<8,>=7.0.0->keplergl==0.3.0) (0.18.1)\n",
      "Requirement already satisfied: matplotlib-inline in /Users/devlee/opt/anaconda3/lib/python3.9/site-packages (from ipython>=4.0.0->ipywidgets<8,>=7.0.0->keplergl==0.3.0) (0.1.6)\n",
      "Requirement already satisfied: pickleshare in /Users/devlee/opt/anaconda3/lib/python3.9/site-packages (from ipython>=4.0.0->ipywidgets<8,>=7.0.0->keplergl==0.3.0) (0.7.5)\n",
      "Requirement already satisfied: prompt-toolkit!=3.0.37,<3.1.0,>=3.0.30 in /Users/devlee/opt/anaconda3/lib/python3.9/site-packages (from ipython>=4.0.0->ipywidgets<8,>=7.0.0->keplergl==0.3.0) (3.0.36)\n",
      "Requirement already satisfied: pygments>=2.4.0 in /Users/devlee/opt/anaconda3/lib/python3.9/site-packages (from ipython>=4.0.0->ipywidgets<8,>=7.0.0->keplergl==0.3.0) (2.15.1)\n",
      "Requirement already satisfied: stack-data in /Users/devlee/opt/anaconda3/lib/python3.9/site-packages (from ipython>=4.0.0->ipywidgets<8,>=7.0.0->keplergl==0.3.0) (0.2.0)\n",
      "Requirement already satisfied: typing-extensions in /Users/devlee/opt/anaconda3/lib/python3.9/site-packages (from ipython>=4.0.0->ipywidgets<8,>=7.0.0->keplergl==0.3.0) (4.10.0)\n",
      "Requirement already satisfied: exceptiongroup in /Users/devlee/opt/anaconda3/lib/python3.9/site-packages (from ipython>=4.0.0->ipywidgets<8,>=7.0.0->keplergl==0.3.0) (1.0.4)\n",
      "Requirement already satisfied: pexpect>4.3 in /Users/devlee/opt/anaconda3/lib/python3.9/site-packages (from ipython>=4.0.0->ipywidgets<8,>=7.0.0->keplergl==0.3.0) (4.8.0)\n",
      "Requirement already satisfied: appnope in /Users/devlee/opt/anaconda3/lib/python3.9/site-packages (from ipython>=4.0.0->ipywidgets<8,>=7.0.0->keplergl==0.3.0) (0.1.2)\n",
      "Requirement already satisfied: notebook>=4.4.1 in /Users/devlee/opt/anaconda3/lib/python3.9/site-packages (from widgetsnbextension~=3.6.6->ipywidgets<8,>=7.0.0->keplergl==0.3.0) (6.5.4)\n",
      "Requirement already satisfied: parso<0.9.0,>=0.8.0 in /Users/devlee/opt/anaconda3/lib/python3.9/site-packages (from jedi>=0.16->ipython>=4.0.0->ipywidgets<8,>=7.0.0->keplergl==0.3.0) (0.8.3)\n",
      "Requirement already satisfied: jinja2 in /Users/devlee/opt/anaconda3/lib/python3.9/site-packages (from notebook>=4.4.1->widgetsnbextension~=3.6.6->ipywidgets<8,>=7.0.0->keplergl==0.3.0) (3.1.2)\n",
      "Requirement already satisfied: tornado>=6.1 in /Users/devlee/opt/anaconda3/lib/python3.9/site-packages (from notebook>=4.4.1->widgetsnbextension~=3.6.6->ipywidgets<8,>=7.0.0->keplergl==0.3.0) (6.3.2)\n",
      "Requirement already satisfied: pyzmq>=17 in /Users/devlee/opt/anaconda3/lib/python3.9/site-packages (from notebook>=4.4.1->widgetsnbextension~=3.6.6->ipywidgets<8,>=7.0.0->keplergl==0.3.0) (23.2.0)\n",
      "Requirement already satisfied: argon2-cffi in /Users/devlee/opt/anaconda3/lib/python3.9/site-packages (from notebook>=4.4.1->widgetsnbextension~=3.6.6->ipywidgets<8,>=7.0.0->keplergl==0.3.0) (21.3.0)\n",
      "Requirement already satisfied: jupyter-core>=4.6.1 in /Users/devlee/opt/anaconda3/lib/python3.9/site-packages (from notebook>=4.4.1->widgetsnbextension~=3.6.6->ipywidgets<8,>=7.0.0->keplergl==0.3.0) (5.3.0)\n",
      "Requirement already satisfied: jupyter-client>=5.3.4 in /Users/devlee/opt/anaconda3/lib/python3.9/site-packages (from notebook>=4.4.1->widgetsnbextension~=3.6.6->ipywidgets<8,>=7.0.0->keplergl==0.3.0) (7.4.9)\n",
      "Requirement already satisfied: nbformat in /Users/devlee/opt/anaconda3/lib/python3.9/site-packages (from notebook>=4.4.1->widgetsnbextension~=3.6.6->ipywidgets<8,>=7.0.0->keplergl==0.3.0) (5.4.0)\n",
      "Requirement already satisfied: nbconvert>=5 in /Users/devlee/opt/anaconda3/lib/python3.9/site-packages (from notebook>=4.4.1->widgetsnbextension~=3.6.6->ipywidgets<8,>=7.0.0->keplergl==0.3.0) (6.5.4)\n",
      "Requirement already satisfied: nest-asyncio>=1.5 in /Users/devlee/opt/anaconda3/lib/python3.9/site-packages (from notebook>=4.4.1->widgetsnbextension~=3.6.6->ipywidgets<8,>=7.0.0->keplergl==0.3.0) (1.5.6)\n",
      "Requirement already satisfied: ipykernel in /Users/devlee/opt/anaconda3/lib/python3.9/site-packages (from notebook>=4.4.1->widgetsnbextension~=3.6.6->ipywidgets<8,>=7.0.0->keplergl==0.3.0) (6.25.0)\n",
      "Requirement already satisfied: Send2Trash>=1.8.0 in /Users/devlee/opt/anaconda3/lib/python3.9/site-packages (from notebook>=4.4.1->widgetsnbextension~=3.6.6->ipywidgets<8,>=7.0.0->keplergl==0.3.0) (1.8.0)\n",
      "Requirement already satisfied: terminado>=0.8.3 in /Users/devlee/opt/anaconda3/lib/python3.9/site-packages (from notebook>=4.4.1->widgetsnbextension~=3.6.6->ipywidgets<8,>=7.0.0->keplergl==0.3.0) (0.17.1)\n",
      "Requirement already satisfied: prometheus-client in /Users/devlee/opt/anaconda3/lib/python3.9/site-packages (from notebook>=4.4.1->widgetsnbextension~=3.6.6->ipywidgets<8,>=7.0.0->keplergl==0.3.0) (0.14.1)\n",
      "Requirement already satisfied: nbclassic>=0.4.7 in /Users/devlee/opt/anaconda3/lib/python3.9/site-packages (from notebook>=4.4.1->widgetsnbextension~=3.6.6->ipywidgets<8,>=7.0.0->keplergl==0.3.0) (0.5.5)\n",
      "Requirement already satisfied: ptyprocess>=0.5 in /Users/devlee/opt/anaconda3/lib/python3.9/site-packages (from pexpect>4.3->ipython>=4.0.0->ipywidgets<8,>=7.0.0->keplergl==0.3.0) (0.7.0)\n",
      "Requirement already satisfied: wcwidth in /Users/devlee/opt/anaconda3/lib/python3.9/site-packages (from prompt-toolkit!=3.0.37,<3.1.0,>=3.0.30->ipython>=4.0.0->ipywidgets<8,>=7.0.0->keplergl==0.3.0) (0.2.5)\n"
     ]
    },
    {
     "name": "stdout",
     "output_type": "stream",
     "text": [
      "Requirement already satisfied: zipp>=0.5 in /Users/devlee/opt/anaconda3/lib/python3.9/site-packages (from importlib-metadata->fiona>=1.8.21->geopandas>=0.5.0->keplergl==0.3.0) (3.11.0)\n",
      "Requirement already satisfied: executing in /Users/devlee/opt/anaconda3/lib/python3.9/site-packages (from stack-data->ipython>=4.0.0->ipywidgets<8,>=7.0.0->keplergl==0.3.0) (0.8.3)\n",
      "Requirement already satisfied: asttokens in /Users/devlee/opt/anaconda3/lib/python3.9/site-packages (from stack-data->ipython>=4.0.0->ipywidgets<8,>=7.0.0->keplergl==0.3.0) (2.0.5)\n",
      "Requirement already satisfied: pure-eval in /Users/devlee/opt/anaconda3/lib/python3.9/site-packages (from stack-data->ipython>=4.0.0->ipywidgets<8,>=7.0.0->keplergl==0.3.0) (0.2.2)\n",
      "Requirement already satisfied: entrypoints in /Users/devlee/opt/anaconda3/lib/python3.9/site-packages (from jupyter-client>=5.3.4->notebook>=4.4.1->widgetsnbextension~=3.6.6->ipywidgets<8,>=7.0.0->keplergl==0.3.0) (0.4)\n",
      "Requirement already satisfied: platformdirs>=2.5 in /Users/devlee/opt/anaconda3/lib/python3.9/site-packages (from jupyter-core>=4.6.1->notebook>=4.4.1->widgetsnbextension~=3.6.6->ipywidgets<8,>=7.0.0->keplergl==0.3.0) (3.10.0)\n",
      "Requirement already satisfied: jupyter-server>=1.8 in /Users/devlee/opt/anaconda3/lib/python3.9/site-packages (from nbclassic>=0.4.7->notebook>=4.4.1->widgetsnbextension~=3.6.6->ipywidgets<8,>=7.0.0->keplergl==0.3.0) (1.23.4)\n",
      "Requirement already satisfied: notebook-shim>=0.1.0 in /Users/devlee/opt/anaconda3/lib/python3.9/site-packages (from nbclassic>=0.4.7->notebook>=4.4.1->widgetsnbextension~=3.6.6->ipywidgets<8,>=7.0.0->keplergl==0.3.0) (0.2.2)\n",
      "Requirement already satisfied: lxml in /Users/devlee/opt/anaconda3/lib/python3.9/site-packages (from nbconvert>=5->notebook>=4.4.1->widgetsnbextension~=3.6.6->ipywidgets<8,>=7.0.0->keplergl==0.3.0) (4.9.3)\n",
      "Requirement already satisfied: beautifulsoup4 in /Users/devlee/opt/anaconda3/lib/python3.9/site-packages (from nbconvert>=5->notebook>=4.4.1->widgetsnbextension~=3.6.6->ipywidgets<8,>=7.0.0->keplergl==0.3.0) (4.12.2)\n",
      "Requirement already satisfied: bleach in /Users/devlee/opt/anaconda3/lib/python3.9/site-packages (from nbconvert>=5->notebook>=4.4.1->widgetsnbextension~=3.6.6->ipywidgets<8,>=7.0.0->keplergl==0.3.0) (4.1.0)\n",
      "Requirement already satisfied: defusedxml in /Users/devlee/opt/anaconda3/lib/python3.9/site-packages (from nbconvert>=5->notebook>=4.4.1->widgetsnbextension~=3.6.6->ipywidgets<8,>=7.0.0->keplergl==0.3.0) (0.7.1)\n",
      "Requirement already satisfied: jupyterlab-pygments in /Users/devlee/opt/anaconda3/lib/python3.9/site-packages (from nbconvert>=5->notebook>=4.4.1->widgetsnbextension~=3.6.6->ipywidgets<8,>=7.0.0->keplergl==0.3.0) (0.1.2)\n",
      "Requirement already satisfied: MarkupSafe>=2.0 in /Users/devlee/opt/anaconda3/lib/python3.9/site-packages (from nbconvert>=5->notebook>=4.4.1->widgetsnbextension~=3.6.6->ipywidgets<8,>=7.0.0->keplergl==0.3.0) (2.1.1)\n",
      "Requirement already satisfied: mistune<2,>=0.8.1 in /Users/devlee/opt/anaconda3/lib/python3.9/site-packages (from nbconvert>=5->notebook>=4.4.1->widgetsnbextension~=3.6.6->ipywidgets<8,>=7.0.0->keplergl==0.3.0) (0.8.4)\n",
      "Requirement already satisfied: nbclient>=0.5.0 in /Users/devlee/opt/anaconda3/lib/python3.9/site-packages (from nbconvert>=5->notebook>=4.4.1->widgetsnbextension~=3.6.6->ipywidgets<8,>=7.0.0->keplergl==0.3.0) (0.5.13)\n",
      "Requirement already satisfied: pandocfilters>=1.4.1 in /Users/devlee/opt/anaconda3/lib/python3.9/site-packages (from nbconvert>=5->notebook>=4.4.1->widgetsnbextension~=3.6.6->ipywidgets<8,>=7.0.0->keplergl==0.3.0) (1.5.0)\n",
      "Requirement already satisfied: tinycss2 in /Users/devlee/opt/anaconda3/lib/python3.9/site-packages (from nbconvert>=5->notebook>=4.4.1->widgetsnbextension~=3.6.6->ipywidgets<8,>=7.0.0->keplergl==0.3.0) (1.2.1)\n",
      "Requirement already satisfied: jsonschema>=2.6 in /Users/devlee/opt/anaconda3/lib/python3.9/site-packages (from nbformat->notebook>=4.4.1->widgetsnbextension~=3.6.6->ipywidgets<8,>=7.0.0->keplergl==0.3.0) (4.17.3)\n",
      "Requirement already satisfied: fastjsonschema in /Users/devlee/opt/anaconda3/lib/python3.9/site-packages (from nbformat->notebook>=4.4.1->widgetsnbextension~=3.6.6->ipywidgets<8,>=7.0.0->keplergl==0.3.0) (2.16.2)\n",
      "Requirement already satisfied: argon2-cffi-bindings in /Users/devlee/opt/anaconda3/lib/python3.9/site-packages (from argon2-cffi->notebook>=4.4.1->widgetsnbextension~=3.6.6->ipywidgets<8,>=7.0.0->keplergl==0.3.0) (21.2.0)\n",
      "Requirement already satisfied: debugpy>=1.6.5 in /Users/devlee/opt/anaconda3/lib/python3.9/site-packages (from ipykernel->notebook>=4.4.1->widgetsnbextension~=3.6.6->ipywidgets<8,>=7.0.0->keplergl==0.3.0) (1.6.7)\n",
      "Requirement already satisfied: psutil in /Users/devlee/opt/anaconda3/lib/python3.9/site-packages (from ipykernel->notebook>=4.4.1->widgetsnbextension~=3.6.6->ipywidgets<8,>=7.0.0->keplergl==0.3.0) (5.9.0)\n",
      "Requirement already satisfied: pyrsistent!=0.17.0,!=0.17.1,!=0.17.2,>=0.14.0 in /Users/devlee/opt/anaconda3/lib/python3.9/site-packages (from jsonschema>=2.6->nbformat->notebook>=4.4.1->widgetsnbextension~=3.6.6->ipywidgets<8,>=7.0.0->keplergl==0.3.0) (0.18.0)\n",
      "Requirement already satisfied: anyio<4,>=3.1.0 in /Users/devlee/opt/anaconda3/lib/python3.9/site-packages (from jupyter-server>=1.8->nbclassic>=0.4.7->notebook>=4.4.1->widgetsnbextension~=3.6.6->ipywidgets<8,>=7.0.0->keplergl==0.3.0) (3.5.0)\n",
      "Requirement already satisfied: websocket-client in /Users/devlee/opt/anaconda3/lib/python3.9/site-packages (from jupyter-server>=1.8->nbclassic>=0.4.7->notebook>=4.4.1->widgetsnbextension~=3.6.6->ipywidgets<8,>=7.0.0->keplergl==0.3.0) (0.58.0)\n",
      "Requirement already satisfied: cffi>=1.0.1 in /Users/devlee/opt/anaconda3/lib/python3.9/site-packages (from argon2-cffi-bindings->argon2-cffi->notebook>=4.4.1->widgetsnbextension~=3.6.6->ipywidgets<8,>=7.0.0->keplergl==0.3.0) (1.15.1)\n",
      "Requirement already satisfied: soupsieve>1.2 in /Users/devlee/opt/anaconda3/lib/python3.9/site-packages (from beautifulsoup4->nbconvert>=5->notebook>=4.4.1->widgetsnbextension~=3.6.6->ipywidgets<8,>=7.0.0->keplergl==0.3.0) (2.4)\n",
      "Requirement already satisfied: webencodings in /Users/devlee/opt/anaconda3/lib/python3.9/site-packages (from bleach->nbconvert>=5->notebook>=4.4.1->widgetsnbextension~=3.6.6->ipywidgets<8,>=7.0.0->keplergl==0.3.0) (0.5.1)\n",
      "Requirement already satisfied: idna>=2.8 in /Users/devlee/opt/anaconda3/lib/python3.9/site-packages (from anyio<4,>=3.1.0->jupyter-server>=1.8->nbclassic>=0.4.7->notebook>=4.4.1->widgetsnbextension~=3.6.6->ipywidgets<8,>=7.0.0->keplergl==0.3.0) (3.4)\n",
      "Requirement already satisfied: sniffio>=1.1 in /Users/devlee/opt/anaconda3/lib/python3.9/site-packages (from anyio<4,>=3.1.0->jupyter-server>=1.8->nbclassic>=0.4.7->notebook>=4.4.1->widgetsnbextension~=3.6.6->ipywidgets<8,>=7.0.0->keplergl==0.3.0) (1.2.0)\n",
      "Requirement already satisfied: pycparser in /Users/devlee/opt/anaconda3/lib/python3.9/site-packages (from cffi>=1.0.1->argon2-cffi-bindings->argon2-cffi->notebook>=4.4.1->widgetsnbextension~=3.6.6->ipywidgets<8,>=7.0.0->keplergl==0.3.0) (2.21)\n"
     ]
    }
   ],
   "source": [
    "!pip install keplergl==0.3.0\n",
    "# !pip install nodejs\n",
    "# !jupyter nbextension enable --py widgetsnbextension\n",
    "\n",
    "\n",
    "# jupyter nbextension install --py --sys-prefix keplergl # can be skipped for notebook 5.3 and above\n",
    "\n",
    "# jupyter nbextension enable --py --sys-prefix keplergl # can be skipped for notebook 5.3 and above"
   ]
  },
  {
   "cell_type": "code",
   "execution_count": 32,
   "id": "60853d91",
   "metadata": {},
   "outputs": [
    {
     "name": "stdout",
     "output_type": "stream",
     "text": [
      "\u001b[33m(Deprecated) Installing extensions with the jupyter labextension install command is now deprecated and will be removed in a future major version of JupyterLab.\n",
      "\n",
      "Users should manage prebuilt extensions with package managers like pip and conda, and extension authors are encouraged to distribute their extensions as prebuilt packages \u001b[0m\n",
      "An error occurred.\n",
      "ValueError: \n",
      "\"@jupyter-widgets/jupyterlab-manager@1.1.0\" is not compatible with the current JupyterLab\n",
      "Conflicting Dependencies:\n",
      "JupyterLab                        Extension      Package\n",
      ">=3.6.3 <3.7.0                    >=1.2.0 <2.0.0 @jupyterlab/application\n",
      ">=5.6.3 <5.7.0                    >=3.2.0 <4.0.0 @jupyterlab/coreutils\n",
      ">=3.6.3 <3.7.0                    >=1.0.0 <2.0.0 @jupyterlab/logconsole\n",
      ">=3.6.3 <3.7.0                    >=1.2.0 <2.0.0 @jupyterlab/mainmenu\n",
      ">=3.6.3 <3.7.0                    >=1.2.0 <2.0.0 @jupyterlab/notebook\n",
      ">=3.6.3 <3.7.0                    >=1.2.0 <2.0.0 @jupyterlab/rendermime\n",
      ">=3.6.3 <3.7.0                    >=1.5.0 <2.0.0 @jupyterlab/rendermime-interfaces\n",
      ">=6.6.3 <6.7.0                    >=4.2.0 <5.0.0 @jupyterlab/services\n",
      "See the log file for details:  /var/folders/62/n2_24fvj54g5__2v4gwrffb80000gn/T/jupyterlab-debug-a9jatbcm.log\n"
     ]
    }
   ],
   "source": [
    "# !jupyter labextension install @jupyter-widgets/jupyterlab-manager keplergl-jupyter\n",
    "!jupyter labextension install @jupyter-widgets/jupyterlab-manager@1.1\n"
   ]
  },
  {
   "cell_type": "code",
   "execution_count": 33,
   "id": "bcf04a4a",
   "metadata": {},
   "outputs": [
    {
     "name": "stdout",
     "output_type": "stream",
     "text": [
      "\u001b[33m(Deprecated) Installing extensions with the jupyter labextension install command is now deprecated and will be removed in a future major version of JupyterLab.\n",
      "\n",
      "Users should manage prebuilt extensions with package managers like pip and conda, and extension authors are encouraged to distribute their extensions as prebuilt packages \u001b[0m\n",
      "Building jupyterlab assets (production, minimized)\n"
     ]
    }
   ],
   "source": [
    "!jupyter labextension install keplergl-jupyter"
   ]
  },
  {
   "cell_type": "code",
   "execution_count": 21,
   "id": "74e15ab8",
   "metadata": {
    "scrolled": true
   },
   "outputs": [
    {
     "name": "stdout",
     "output_type": "stream",
     "text": [
      "Installing /Users/devlee/opt/anaconda3/lib/python3.9/site-packages/keplergl/static -> keplergl-jupyter\n",
      "Up to date: /Users/devlee/opt/anaconda3/share/jupyter/nbextensions/keplergl-jupyter/keplergl.html\n",
      "Up to date: /Users/devlee/opt/anaconda3/share/jupyter/nbextensions/keplergl-jupyter/index.js\n",
      "Up to date: /Users/devlee/opt/anaconda3/share/jupyter/nbextensions/keplergl-jupyter/extension.js.map\n",
      "Up to date: /Users/devlee/opt/anaconda3/share/jupyter/nbextensions/keplergl-jupyter/main.js\n",
      "Up to date: /Users/devlee/opt/anaconda3/share/jupyter/nbextensions/keplergl-jupyter/index.js.map\n",
      "Up to date: /Users/devlee/opt/anaconda3/share/jupyter/nbextensions/keplergl-jupyter/extension.js\n",
      "- Validating: \u001b[32mOK\u001b[0m\n",
      "\n",
      "    To initialize this nbextension in the browser every time the notebook (or other app) loads:\n",
      "    \n",
      "          jupyter nbextension enable keplergl --py --sys-prefix\n",
      "    \n",
      "Enabling notebook extension keplergl-jupyter/extension...\n",
      "      - Validating: \u001b[32mOK\u001b[0m\n"
     ]
    }
   ],
   "source": [
    "!jupyter nbextension install --py --sys-prefix keplergl # can be skipped for notebook 5.3 and above\n",
    "!jupyter nbextension enable --py --sys-prefix keplergl # can be skipped for notebook 5.3 and above"
   ]
  },
  {
   "cell_type": "code",
   "execution_count": 34,
   "id": "10cdc887",
   "metadata": {},
   "outputs": [
    {
     "name": "stdout",
     "output_type": "stream",
     "text": [
      "\u001b[33m(Deprecated) Installing extensions with the jupyter labextension install command is now deprecated and will be removed in a future major version of JupyterLab.\n",
      "\n",
      "Users should manage prebuilt extensions with package managers like pip and conda, and extension authors are encouraged to distribute their extensions as prebuilt packages \u001b[0m\n",
      "Building jupyterlab assets (production, minimized)\n"
     ]
    }
   ],
   "source": [
    "!jupyter labextension install keplergl-jupyter"
   ]
  },
  {
   "cell_type": "code",
   "execution_count": 30,
   "id": "3f64b9e6",
   "metadata": {},
   "outputs": [
    {
     "name": "stdout",
     "output_type": "stream",
     "text": [
      "Available kernels:\r\n",
      "  python3    /Users/devlee/opt/anaconda3/share/jupyter/kernels/python3\r\n"
     ]
    }
   ],
   "source": [
    "!jupyter kernelspec list"
   ]
  },
  {
   "cell_type": "code",
   "execution_count": 54,
   "id": "f8cb4fef",
   "metadata": {},
   "outputs": [],
   "source": [
    "import pandas as pd\n",
    "import numpy as np\n",
    "from keplergl import KeplerGl \n",
    "import json"
   ]
  },
  {
   "cell_type": "code",
   "execution_count": 4,
   "id": "cf7c21a6",
   "metadata": {},
   "outputs": [],
   "source": [
    "call_taxi_df = pd.read_csv('./data/call_taxi.csv')"
   ]
  },
  {
   "cell_type": "code",
   "execution_count": 6,
   "id": "64b784d9",
   "metadata": {},
   "outputs": [],
   "source": [
    "def convert_korean_datetime(custom_time_str: str):\n",
    "    try:\n",
    "        if '오전' in custom_time_str:\n",
    "            custom_time_str = custom_time_str.replace('오전', 'AM')\n",
    "        elif '오후' in custom_time_str:\n",
    "            custom_time_str = custom_time_str.replace('오후', 'PM')\n",
    "        return pd.to_datetime(custom_time_str, format='%Y-%m-%d %p %I:%M:%S')\n",
    "    except Exception as e:\n",
    "        return pd.NaT\n",
    "call_taxi_df['settime_kor'] = call_taxi_df['settime'].apply(convert_korean_datetime)\n",
    "call_taxi_df['ridetime_kor'] = call_taxi_df['ridetime'].apply(convert_korean_datetime)\n",
    "\n",
    "call_taxi_df['대기시간'] = call_taxi_df['ridetime_kor'] - call_taxi_df['settime_kor']\n",
    "\n",
    "def format_time_difference(td):\n",
    "    if pd.isna(td):\n",
    "        return 'N/A'\n",
    "    minutes, seconds = divmod(td.total_seconds(), 60)\n",
    "    return f\"{int(minutes)}분 {int(seconds)}초\"\n",
    "\n",
    "call_taxi_df['대기시간'] = call_taxi_df['대기시간'].apply(format_time_difference)\n",
    "\n",
    "def convert_time_to_seconds(time_str):\n",
    "    parts = time_str.split(' ')\n",
    "    if 'N/A' in parts: return 0\n",
    "    minutes = int(parts[0][:-1]) if '분' in parts[0] else 0\n",
    "    seconds = int(parts[1][:-1]) if '초' in parts[1] else 0\n",
    "    return minutes * 60 + seconds\n",
    "\n",
    "call_taxi_df['대기시간(초단위)'] = call_taxi_df['대기시간'].apply(convert_time_to_seconds)"
   ]
  },
  {
   "cell_type": "code",
   "execution_count": 7,
   "id": "a2fc7848",
   "metadata": {},
   "outputs": [],
   "source": [
    "def clean_startpos2(value):\n",
    "    import re\n",
    "    # Regular expression to match '제' followed by digits\n",
    "    value = re.sub(r'제(\\d+)', r'\\1', value)\n",
    "    return value\n",
    "\n",
    "\n",
    "\n",
    "# 평균 대기시간 구하기\n",
    "call_taxi_df['지역'] = call_taxi_df[\"startpos1\"] + \" \" + call_taxi_df[\"startpos2\"].apply(clean_startpos2)\n",
    "\n",
    "average_time_per_startpoint = call_taxi_df.groupby('지역')['대기시간(초단위)'].mean().reset_index()\n",
    "\n",
    "df_avg_wait_time = average_time_per_startpoint.rename(columns={'startpos2': 'startpos2', '대기시간(초단위)': '대기시간(초단위)'})\n",
    "\n",
    "\n",
    "df_avg_wait_time['name'] = df_avg_wait_time['지역']\n",
    "df_avg_wait_time['value'] = df_avg_wait_time['대기시간(초단위)']"
   ]
  },
  {
   "cell_type": "code",
   "execution_count": 52,
   "id": "6e83c46c",
   "metadata": {},
   "outputs": [],
   "source": [
    "geo_path = './data/seoul.geojson'\n",
    "geo_json_data = json.load(open(geo_path, encoding='utf-8'))\n",
    "\n",
    "temp_to_coords = {}\n",
    "for feature in geo_json_data['features']:\n",
    "    temp = feature['properties']['temp']\n",
    "    coords = feature['geometry']['coordinates'][0][0][0]  # Use the first coordinate\n",
    "    temp_to_coords[temp] = coords\n",
    "call_taxi_df['longitude'] = call_taxi_df['지역'].map(lambda x: temp_to_coords.get(x, [None, None])[0])\n",
    "call_taxi_df['latitude'] = call_taxi_df['지역'].map(lambda x: temp_to_coords.get(x, [None, None])[1])\n",
    "\n",
    "call_taxi_df.to_csv('../../taxi.csv')"
   ]
  },
  {
   "cell_type": "code",
   "execution_count": 56,
   "id": "09e31f26",
   "metadata": {},
   "outputs": [
    {
     "name": "stdout",
     "output_type": "stream",
     "text": [
      "User Guide: https://docs.kepler.gl/docs/keplergl-jupyter\n"
     ]
    },
    {
     "data": {
      "application/vnd.jupyter.widget-view+json": {
       "model_id": "38e479cb58d84b9c97fac1a3a0b3ec86",
       "version_major": 2,
       "version_minor": 0
      },
      "text/plain": [
       "KeplerGl(data={'unnamed': {'index': [0, 1, 2, 3, 4, 5, 6, 7, 8, 9, 10, 11, 12, 13, 14, 15, 16, 17, 18, 19, 20,…"
      ]
     },
     "metadata": {},
     "output_type": "display_data"
    }
   ],
   "source": [
    "# NaN 값을 0으로 대체하거나 필요한 경우 다른 값으로 대체할 수 있습니다.\n",
    "call_taxi_df.fillna(0, inplace=True)\n",
    "\n",
    "# Infinity 값 검사 및 제거\n",
    "call_taxi_df.replace([np.inf, -np.inf], np.nan, inplace=True)\n",
    "call_taxi_df.dropna(inplace=True)\n",
    "\n",
    "map_1 = KeplerGl(height=500)\n",
    "map_1.add_data(call_taxi_df)\n",
    "map_1"
   ]
  },
  {
   "cell_type": "code",
   "execution_count": 41,
   "id": "ff00423a",
   "metadata": {},
   "outputs": [
    {
     "name": "stdout",
     "output_type": "stream",
     "text": [
      "Requirement already satisfied: ipywidgets in /Users/devlee/opt/anaconda3/lib/python3.9/site-packages (7.8.1)\n",
      "Requirement already satisfied: comm>=0.1.3 in /Users/devlee/opt/anaconda3/lib/python3.9/site-packages (from ipywidgets) (0.2.2)\n",
      "Requirement already satisfied: ipython-genutils~=0.2.0 in /Users/devlee/opt/anaconda3/lib/python3.9/site-packages (from ipywidgets) (0.2.0)\n",
      "Requirement already satisfied: traitlets>=4.3.1 in /Users/devlee/opt/anaconda3/lib/python3.9/site-packages (from ipywidgets) (5.7.1)\n",
      "Requirement already satisfied: widgetsnbextension~=3.6.6 in /Users/devlee/opt/anaconda3/lib/python3.9/site-packages (from ipywidgets) (3.6.6)\n",
      "Requirement already satisfied: ipython>=4.0.0 in /Users/devlee/opt/anaconda3/lib/python3.9/site-packages (from ipywidgets) (8.15.0)\n",
      "Requirement already satisfied: jupyterlab-widgets<3,>=1.0.0 in /Users/devlee/opt/anaconda3/lib/python3.9/site-packages (from ipywidgets) (1.1.7)\n",
      "Requirement already satisfied: backcall in /Users/devlee/opt/anaconda3/lib/python3.9/site-packages (from ipython>=4.0.0->ipywidgets) (0.2.0)\n",
      "Requirement already satisfied: decorator in /Users/devlee/opt/anaconda3/lib/python3.9/site-packages (from ipython>=4.0.0->ipywidgets) (5.1.1)\n",
      "Requirement already satisfied: jedi>=0.16 in /Users/devlee/opt/anaconda3/lib/python3.9/site-packages (from ipython>=4.0.0->ipywidgets) (0.18.1)\n",
      "Requirement already satisfied: matplotlib-inline in /Users/devlee/opt/anaconda3/lib/python3.9/site-packages (from ipython>=4.0.0->ipywidgets) (0.1.6)\n",
      "Requirement already satisfied: pickleshare in /Users/devlee/opt/anaconda3/lib/python3.9/site-packages (from ipython>=4.0.0->ipywidgets) (0.7.5)\n",
      "Requirement already satisfied: prompt-toolkit!=3.0.37,<3.1.0,>=3.0.30 in /Users/devlee/opt/anaconda3/lib/python3.9/site-packages (from ipython>=4.0.0->ipywidgets) (3.0.36)\n",
      "Requirement already satisfied: pygments>=2.4.0 in /Users/devlee/opt/anaconda3/lib/python3.9/site-packages (from ipython>=4.0.0->ipywidgets) (2.15.1)\n",
      "Requirement already satisfied: stack-data in /Users/devlee/opt/anaconda3/lib/python3.9/site-packages (from ipython>=4.0.0->ipywidgets) (0.2.0)\n",
      "Requirement already satisfied: typing-extensions in /Users/devlee/opt/anaconda3/lib/python3.9/site-packages (from ipython>=4.0.0->ipywidgets) (4.10.0)\n",
      "Requirement already satisfied: exceptiongroup in /Users/devlee/opt/anaconda3/lib/python3.9/site-packages (from ipython>=4.0.0->ipywidgets) (1.0.4)\n",
      "Requirement already satisfied: pexpect>4.3 in /Users/devlee/opt/anaconda3/lib/python3.9/site-packages (from ipython>=4.0.0->ipywidgets) (4.8.0)\n",
      "Requirement already satisfied: appnope in /Users/devlee/opt/anaconda3/lib/python3.9/site-packages (from ipython>=4.0.0->ipywidgets) (0.1.2)\n",
      "Requirement already satisfied: notebook>=4.4.1 in /Users/devlee/opt/anaconda3/lib/python3.9/site-packages (from widgetsnbextension~=3.6.6->ipywidgets) (6.5.4)\n",
      "Requirement already satisfied: parso<0.9.0,>=0.8.0 in /Users/devlee/opt/anaconda3/lib/python3.9/site-packages (from jedi>=0.16->ipython>=4.0.0->ipywidgets) (0.8.3)\n",
      "Requirement already satisfied: jinja2 in /Users/devlee/opt/anaconda3/lib/python3.9/site-packages (from notebook>=4.4.1->widgetsnbextension~=3.6.6->ipywidgets) (3.1.2)\n",
      "Requirement already satisfied: tornado>=6.1 in /Users/devlee/opt/anaconda3/lib/python3.9/site-packages (from notebook>=4.4.1->widgetsnbextension~=3.6.6->ipywidgets) (6.3.2)\n",
      "Requirement already satisfied: pyzmq>=17 in /Users/devlee/opt/anaconda3/lib/python3.9/site-packages (from notebook>=4.4.1->widgetsnbextension~=3.6.6->ipywidgets) (23.2.0)\n",
      "Requirement already satisfied: argon2-cffi in /Users/devlee/opt/anaconda3/lib/python3.9/site-packages (from notebook>=4.4.1->widgetsnbextension~=3.6.6->ipywidgets) (21.3.0)\n",
      "Requirement already satisfied: jupyter-core>=4.6.1 in /Users/devlee/opt/anaconda3/lib/python3.9/site-packages (from notebook>=4.4.1->widgetsnbextension~=3.6.6->ipywidgets) (5.3.0)\n",
      "Requirement already satisfied: jupyter-client>=5.3.4 in /Users/devlee/opt/anaconda3/lib/python3.9/site-packages (from notebook>=4.4.1->widgetsnbextension~=3.6.6->ipywidgets) (7.4.9)\n",
      "Requirement already satisfied: nbformat in /Users/devlee/opt/anaconda3/lib/python3.9/site-packages (from notebook>=4.4.1->widgetsnbextension~=3.6.6->ipywidgets) (5.4.0)\n",
      "Requirement already satisfied: nbconvert>=5 in /Users/devlee/opt/anaconda3/lib/python3.9/site-packages (from notebook>=4.4.1->widgetsnbextension~=3.6.6->ipywidgets) (6.5.4)\n",
      "Requirement already satisfied: nest-asyncio>=1.5 in /Users/devlee/opt/anaconda3/lib/python3.9/site-packages (from notebook>=4.4.1->widgetsnbextension~=3.6.6->ipywidgets) (1.5.6)\n",
      "Requirement already satisfied: ipykernel in /Users/devlee/opt/anaconda3/lib/python3.9/site-packages (from notebook>=4.4.1->widgetsnbextension~=3.6.6->ipywidgets) (6.25.0)\n",
      "Requirement already satisfied: Send2Trash>=1.8.0 in /Users/devlee/opt/anaconda3/lib/python3.9/site-packages (from notebook>=4.4.1->widgetsnbextension~=3.6.6->ipywidgets) (1.8.0)\n",
      "Requirement already satisfied: terminado>=0.8.3 in /Users/devlee/opt/anaconda3/lib/python3.9/site-packages (from notebook>=4.4.1->widgetsnbextension~=3.6.6->ipywidgets) (0.17.1)\n",
      "Requirement already satisfied: prometheus-client in /Users/devlee/opt/anaconda3/lib/python3.9/site-packages (from notebook>=4.4.1->widgetsnbextension~=3.6.6->ipywidgets) (0.14.1)\n",
      "Requirement already satisfied: nbclassic>=0.4.7 in /Users/devlee/opt/anaconda3/lib/python3.9/site-packages (from notebook>=4.4.1->widgetsnbextension~=3.6.6->ipywidgets) (0.5.5)\n",
      "Requirement already satisfied: ptyprocess>=0.5 in /Users/devlee/opt/anaconda3/lib/python3.9/site-packages (from pexpect>4.3->ipython>=4.0.0->ipywidgets) (0.7.0)\n",
      "Requirement already satisfied: wcwidth in /Users/devlee/opt/anaconda3/lib/python3.9/site-packages (from prompt-toolkit!=3.0.37,<3.1.0,>=3.0.30->ipython>=4.0.0->ipywidgets) (0.2.5)\n",
      "Requirement already satisfied: executing in /Users/devlee/opt/anaconda3/lib/python3.9/site-packages (from stack-data->ipython>=4.0.0->ipywidgets) (0.8.3)\n",
      "Requirement already satisfied: asttokens in /Users/devlee/opt/anaconda3/lib/python3.9/site-packages (from stack-data->ipython>=4.0.0->ipywidgets) (2.0.5)\n",
      "Requirement already satisfied: pure-eval in /Users/devlee/opt/anaconda3/lib/python3.9/site-packages (from stack-data->ipython>=4.0.0->ipywidgets) (0.2.2)\n",
      "Requirement already satisfied: entrypoints in /Users/devlee/opt/anaconda3/lib/python3.9/site-packages (from jupyter-client>=5.3.4->notebook>=4.4.1->widgetsnbextension~=3.6.6->ipywidgets) (0.4)\n",
      "Requirement already satisfied: python-dateutil>=2.8.2 in /Users/devlee/opt/anaconda3/lib/python3.9/site-packages (from jupyter-client>=5.3.4->notebook>=4.4.1->widgetsnbextension~=3.6.6->ipywidgets) (2.8.2)\n",
      "Requirement already satisfied: platformdirs>=2.5 in /Users/devlee/opt/anaconda3/lib/python3.9/site-packages (from jupyter-core>=4.6.1->notebook>=4.4.1->widgetsnbextension~=3.6.6->ipywidgets) (3.10.0)\n",
      "Requirement already satisfied: jupyter-server>=1.8 in /Users/devlee/opt/anaconda3/lib/python3.9/site-packages (from nbclassic>=0.4.7->notebook>=4.4.1->widgetsnbextension~=3.6.6->ipywidgets) (1.23.4)\n",
      "Requirement already satisfied: notebook-shim>=0.1.0 in /Users/devlee/opt/anaconda3/lib/python3.9/site-packages (from nbclassic>=0.4.7->notebook>=4.4.1->widgetsnbextension~=3.6.6->ipywidgets) (0.2.2)\n",
      "Requirement already satisfied: lxml in /Users/devlee/opt/anaconda3/lib/python3.9/site-packages (from nbconvert>=5->notebook>=4.4.1->widgetsnbextension~=3.6.6->ipywidgets) (4.9.3)\n",
      "Requirement already satisfied: beautifulsoup4 in /Users/devlee/opt/anaconda3/lib/python3.9/site-packages (from nbconvert>=5->notebook>=4.4.1->widgetsnbextension~=3.6.6->ipywidgets) (4.12.2)\n",
      "Requirement already satisfied: bleach in /Users/devlee/opt/anaconda3/lib/python3.9/site-packages (from nbconvert>=5->notebook>=4.4.1->widgetsnbextension~=3.6.6->ipywidgets) (4.1.0)\n",
      "Requirement already satisfied: defusedxml in /Users/devlee/opt/anaconda3/lib/python3.9/site-packages (from nbconvert>=5->notebook>=4.4.1->widgetsnbextension~=3.6.6->ipywidgets) (0.7.1)\n",
      "Requirement already satisfied: jupyterlab-pygments in /Users/devlee/opt/anaconda3/lib/python3.9/site-packages (from nbconvert>=5->notebook>=4.4.1->widgetsnbextension~=3.6.6->ipywidgets) (0.1.2)\n",
      "Requirement already satisfied: MarkupSafe>=2.0 in /Users/devlee/opt/anaconda3/lib/python3.9/site-packages (from nbconvert>=5->notebook>=4.4.1->widgetsnbextension~=3.6.6->ipywidgets) (2.1.1)\n",
      "Requirement already satisfied: mistune<2,>=0.8.1 in /Users/devlee/opt/anaconda3/lib/python3.9/site-packages (from nbconvert>=5->notebook>=4.4.1->widgetsnbextension~=3.6.6->ipywidgets) (0.8.4)\n",
      "Requirement already satisfied: nbclient>=0.5.0 in /Users/devlee/opt/anaconda3/lib/python3.9/site-packages (from nbconvert>=5->notebook>=4.4.1->widgetsnbextension~=3.6.6->ipywidgets) (0.5.13)\n",
      "Requirement already satisfied: packaging in /Users/devlee/opt/anaconda3/lib/python3.9/site-packages (from nbconvert>=5->notebook>=4.4.1->widgetsnbextension~=3.6.6->ipywidgets) (23.1)\n",
      "Requirement already satisfied: pandocfilters>=1.4.1 in /Users/devlee/opt/anaconda3/lib/python3.9/site-packages (from nbconvert>=5->notebook>=4.4.1->widgetsnbextension~=3.6.6->ipywidgets) (1.5.0)\n",
      "Requirement already satisfied: tinycss2 in /Users/devlee/opt/anaconda3/lib/python3.9/site-packages (from nbconvert>=5->notebook>=4.4.1->widgetsnbextension~=3.6.6->ipywidgets) (1.2.1)\n",
      "Requirement already satisfied: jsonschema>=2.6 in /Users/devlee/opt/anaconda3/lib/python3.9/site-packages (from nbformat->notebook>=4.4.1->widgetsnbextension~=3.6.6->ipywidgets) (4.17.3)\n",
      "Requirement already satisfied: fastjsonschema in /Users/devlee/opt/anaconda3/lib/python3.9/site-packages (from nbformat->notebook>=4.4.1->widgetsnbextension~=3.6.6->ipywidgets) (2.16.2)\n"
     ]
    },
    {
     "name": "stdout",
     "output_type": "stream",
     "text": [
      "Requirement already satisfied: argon2-cffi-bindings in /Users/devlee/opt/anaconda3/lib/python3.9/site-packages (from argon2-cffi->notebook>=4.4.1->widgetsnbextension~=3.6.6->ipywidgets) (21.2.0)\n",
      "Requirement already satisfied: six in /Users/devlee/opt/anaconda3/lib/python3.9/site-packages (from asttokens->stack-data->ipython>=4.0.0->ipywidgets) (1.16.0)\n",
      "Requirement already satisfied: debugpy>=1.6.5 in /Users/devlee/opt/anaconda3/lib/python3.9/site-packages (from ipykernel->notebook>=4.4.1->widgetsnbextension~=3.6.6->ipywidgets) (1.6.7)\n",
      "Requirement already satisfied: psutil in /Users/devlee/opt/anaconda3/lib/python3.9/site-packages (from ipykernel->notebook>=4.4.1->widgetsnbextension~=3.6.6->ipywidgets) (5.9.0)\n",
      "Requirement already satisfied: attrs>=17.4.0 in /Users/devlee/opt/anaconda3/lib/python3.9/site-packages (from jsonschema>=2.6->nbformat->notebook>=4.4.1->widgetsnbextension~=3.6.6->ipywidgets) (22.1.0)\n",
      "Requirement already satisfied: pyrsistent!=0.17.0,!=0.17.1,!=0.17.2,>=0.14.0 in /Users/devlee/opt/anaconda3/lib/python3.9/site-packages (from jsonschema>=2.6->nbformat->notebook>=4.4.1->widgetsnbextension~=3.6.6->ipywidgets) (0.18.0)\n",
      "Requirement already satisfied: anyio<4,>=3.1.0 in /Users/devlee/opt/anaconda3/lib/python3.9/site-packages (from jupyter-server>=1.8->nbclassic>=0.4.7->notebook>=4.4.1->widgetsnbextension~=3.6.6->ipywidgets) (3.5.0)\n",
      "Requirement already satisfied: websocket-client in /Users/devlee/opt/anaconda3/lib/python3.9/site-packages (from jupyter-server>=1.8->nbclassic>=0.4.7->notebook>=4.4.1->widgetsnbextension~=3.6.6->ipywidgets) (0.58.0)\n",
      "Requirement already satisfied: cffi>=1.0.1 in /Users/devlee/opt/anaconda3/lib/python3.9/site-packages (from argon2-cffi-bindings->argon2-cffi->notebook>=4.4.1->widgetsnbextension~=3.6.6->ipywidgets) (1.15.1)\n",
      "Requirement already satisfied: soupsieve>1.2 in /Users/devlee/opt/anaconda3/lib/python3.9/site-packages (from beautifulsoup4->nbconvert>=5->notebook>=4.4.1->widgetsnbextension~=3.6.6->ipywidgets) (2.4)\n",
      "Requirement already satisfied: webencodings in /Users/devlee/opt/anaconda3/lib/python3.9/site-packages (from bleach->nbconvert>=5->notebook>=4.4.1->widgetsnbextension~=3.6.6->ipywidgets) (0.5.1)\n",
      "Requirement already satisfied: idna>=2.8 in /Users/devlee/opt/anaconda3/lib/python3.9/site-packages (from anyio<4,>=3.1.0->jupyter-server>=1.8->nbclassic>=0.4.7->notebook>=4.4.1->widgetsnbextension~=3.6.6->ipywidgets) (3.4)\n",
      "Requirement already satisfied: sniffio>=1.1 in /Users/devlee/opt/anaconda3/lib/python3.9/site-packages (from anyio<4,>=3.1.0->jupyter-server>=1.8->nbclassic>=0.4.7->notebook>=4.4.1->widgetsnbextension~=3.6.6->ipywidgets) (1.2.0)\n",
      "Requirement already satisfied: pycparser in /Users/devlee/opt/anaconda3/lib/python3.9/site-packages (from cffi>=1.0.1->argon2-cffi-bindings->argon2-cffi->notebook>=4.4.1->widgetsnbextension~=3.6.6->ipywidgets) (2.21)\n",
      "Note: you may need to restart the kernel to use updated packages.\n"
     ]
    }
   ],
   "source": [
    "pip install ipywidgets\n"
   ]
  },
  {
   "cell_type": "code",
   "execution_count": 43,
   "id": "153ca2f1",
   "metadata": {},
   "outputs": [
    {
     "name": "stdout",
     "output_type": "stream",
     "text": [
      "Known nbextensions:\n",
      "  config dir: /Users/devlee/.jupyter/nbconfig\n",
      "    notebook section\n",
      "      jupyter-js-widgets/extension \u001b[32m enabled \u001b[0m\n",
      "      - Validating: \u001b[32mOK\u001b[0m\n",
      "  config dir: /Users/devlee/opt/anaconda3/etc/jupyter/nbconfig\n",
      "    notebook section\n",
      "      jupyterlab-plotly/extension \u001b[32m enabled \u001b[0m\n",
      "      - Validating: \u001b[32mOK\u001b[0m\n",
      "      keplergl-jupyter/extension \u001b[32m enabled \u001b[0m\n",
      "      - Validating: \u001b[32mOK\u001b[0m\n",
      "      pydeck/extension \u001b[32m enabled \u001b[0m\n",
      "      - Validating: problems found:\n",
      "        - require? \u001b[31m X\u001b[0m pydeck/extension\n",
      "      jupyter-js-widgets/extension \u001b[32m enabled \u001b[0m\n",
      "      - Validating: \u001b[32mOK\u001b[0m\n"
     ]
    }
   ],
   "source": [
    "!jupyter nbextension list\n"
   ]
  },
  {
   "cell_type": "code",
   "execution_count": null,
   "id": "2943cb39",
   "metadata": {},
   "outputs": [],
   "source": []
  }
 ],
 "metadata": {
  "kernelspec": {
   "display_name": "Python 3 (ipykernel)",
   "language": "python",
   "name": "python3"
  },
  "language_info": {
   "codemirror_mode": {
    "name": "ipython",
    "version": 3
   },
   "file_extension": ".py",
   "mimetype": "text/x-python",
   "name": "python",
   "nbconvert_exporter": "python",
   "pygments_lexer": "ipython3",
   "version": "3.9.18"
  }
 },
 "nbformat": 4,
 "nbformat_minor": 5
}
