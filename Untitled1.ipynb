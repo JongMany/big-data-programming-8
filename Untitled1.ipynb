{
 "cells": [
  {
   "cell_type": "code",
   "execution_count": null,
   "id": "d4e57d40",
   "metadata": {},
   "outputs": [],
   "source": [
    "import pandas as pd\n",
    "import chardet\n",
    "from geopy.geocoders import Nominatim\n",
    "\n"
   ]
  },
  {
   "cell_type": "code",
   "execution_count": 2,
   "id": "d8377c04",
   "metadata": {},
   "outputs": [],
   "source": [
    "geo_local = Nominatim(user_agent= 'South Korea', timeout=None)\n",
    "df1 = pd.read_excel('./data/서울시버스노선별정류소정보(20240507).xlsx')\n",
    "df2 = pd.read_excel('./저상버스.xlsx')\n"
   ]
  },
  {
   "cell_type": "code",
   "execution_count": 3,
   "id": "9c6f1e40",
   "metadata": {},
   "outputs": [],
   "source": [
    "# Renaming columns to ensure they match for merging\n",
    "df1.rename(columns={'노선명': 'Route Name'}, inplace=True)\n",
    "df2.rename(columns={'노선번호': 'Route Name'}, inplace=True)\n",
    "\n",
    "# Converting all values in 'Route Name' to string type\n",
    "df1['Route Name'] = df1['Route Name'].astype(str)\n",
    "df2['Route Name'] = df2['Route Name'].astype(str)\n",
    "\n",
    "# Function to normalize the route names\n",
    "def normalize_route(route_name):\n",
    "    return ''.join([char for char in route_name if char.isdigit() or char.isalpha() and char.isascii()])\n",
    "\n",
    "# Apply the normalization function to the 'Route Name' column in both dataframes\n",
    "df2['Route Name'] = df2['Route Name'].apply(normalize_route)\n",
    "\n",
    "merged_df = pd.merge(df1, df2, on='Route Name', how='left')\n",
    "\n",
    "# Fill missing values with defaults\n",
    "merged_df['인가대수'].fillna(0, inplace=True)\n",
    "merged_df['저상대수'].fillna(0, inplace=True)\n",
    "merged_df['보유율'].fillna(0, inplace=True)\n"
   ]
  },
  {
   "cell_type": "code",
   "execution_count": null,
   "id": "496c1516",
   "metadata": {},
   "outputs": [],
   "source": [
    " def geocoding_reverse(lat, lng):\n",
    "    try:\n",
    "        address = geo_local.reverse([lat, lng], exactly_one=True, language='ko')\n",
    "        detail_address = address.address\t\t\t\t# 상세주소\n",
    "        zip_code = address.raw['address']['postcode']   # 우편번호\n",
    "#         x_y = [detail_address, zip_code]        \n",
    "        return [i.strip() for i in detail_address.split(',')]\n",
    "#         return x_y\n",
    "    except:\n",
    "        return None\n",
    "i = 0\n",
    "def make_gu(lat, lng):\n",
    "    m = geocoding_reverse(lat, lng)\n",
    "    i+=1;\n",
    "    print(i)\n",
    "    if m is None:\n",
    "        return None\n",
    "    try:\n",
    "        idx = m.index('서울')\n",
    "        if idx == -1:\n",
    "            return None\n",
    "        return m[idx-1]\n",
    "    except:\n",
    "        return None\n",
    "    \n",
    "merged_df['District'] = merged_df.apply(lambda row: make_gu(row['Y좌표'], row['X좌표']), axis=1)"
   ]
  },
  {
   "cell_type": "code",
   "execution_count": null,
   "id": "aa57fdd1",
   "metadata": {},
   "outputs": [],
   "source": []
  }
 ],
 "metadata": {
  "kernelspec": {
   "display_name": "Python 3 (ipykernel)",
   "language": "python",
   "name": "python3"
  },
  "language_info": {
   "codemirror_mode": {
    "name": "ipython",
    "version": 3
   },
   "file_extension": ".py",
   "mimetype": "text/x-python",
   "name": "python",
   "nbconvert_exporter": "python",
   "pygments_lexer": "ipython3",
   "version": "3.9.18"
  }
 },
 "nbformat": 4,
 "nbformat_minor": 5
}
